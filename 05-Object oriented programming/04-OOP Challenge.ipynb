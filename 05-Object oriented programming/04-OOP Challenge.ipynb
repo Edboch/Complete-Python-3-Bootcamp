{
  "metadata": {
    "kernelspec": {
      "name": "python",
      "display_name": "Python (Pyodide)",
      "language": "python"
    },
    "language_info": {
      "codemirror_mode": {
        "name": "python",
        "version": 3
      },
      "file_extension": ".py",
      "mimetype": "text/x-python",
      "name": "python",
      "nbconvert_exporter": "python",
      "pygments_lexer": "ipython3",
      "version": "3.8"
    }
  },
  "nbformat_minor": 4,
  "nbformat": 4,
  "cells": [
    {
      "cell_type": "markdown",
      "source": "___\n\n<a href='https://www.udemy.com/user/joseportilla/'><img src='../Pierian_Data_Logo.png'/></a>\n___\n<center><em>Content Copyright by Pierian Data</em></center>",
      "metadata": {}
    },
    {
      "cell_type": "markdown",
      "source": "# Object Oriented Programming Challenge\n\nFor this challenge, create a bank account class that has two attributes:\n\n* owner\n* balance\n\nand two methods:\n\n* deposit\n* withdraw\n\nAs an added requirement, withdrawals may not exceed the available balance.\n\nInstantiate your class, make several deposits and withdrawals, and test to make sure the account can't be overdrawn.",
      "metadata": {}
    },
    {
      "cell_type": "code",
      "source": "class Account():\n    def __init__(self,owner,balance):\n        self.owner = owner\n        self.balance = balance\n    def deposit(self,amount):\n        self.balance += amount\n        print('Deposit Accepted')\n    def withdraw(self,amount):\n        if amount > self.balance:\n            print('Funds Unavailable!')\n        else:\n            self.balance -= amount\n            print('Withdrawal Accepted')\n            \n    def __str__(self):\n        return f'Account owner:  {self.owner}\\n\\nAccount balance: ${self.balance}'\n    ",
      "metadata": {
        "trusted": true
      },
      "outputs": [],
      "execution_count": 19
    },
    {
      "cell_type": "code",
      "source": "# 1. Instantiate the class\nacct1 = Account('Jose',100)",
      "metadata": {
        "trusted": true
      },
      "outputs": [],
      "execution_count": 20
    },
    {
      "cell_type": "code",
      "source": "# 2. Print the object\nprint(acct1)",
      "metadata": {
        "trusted": true
      },
      "outputs": [
        {
          "name": "stdout",
          "text": "Account owner:  Jose\n\nAccount balance: $100\n",
          "output_type": "stream"
        }
      ],
      "execution_count": 21
    },
    {
      "cell_type": "code",
      "source": "# 3. Show the account owner attribute\nacct1.owner",
      "metadata": {
        "trusted": true
      },
      "outputs": [
        {
          "execution_count": 22,
          "output_type": "execute_result",
          "data": {
            "text/plain": "'Jose'"
          },
          "metadata": {}
        }
      ],
      "execution_count": 22
    },
    {
      "cell_type": "code",
      "source": "# 4. Show the account balance attribute\nacct1.balance",
      "metadata": {
        "trusted": true
      },
      "outputs": [
        {
          "execution_count": 23,
          "output_type": "execute_result",
          "data": {
            "text/plain": "100"
          },
          "metadata": {}
        }
      ],
      "execution_count": 23
    },
    {
      "cell_type": "code",
      "source": "# 5. Make a series of deposits and withdrawals\nacct1.deposit(50)",
      "metadata": {
        "trusted": true
      },
      "outputs": [
        {
          "name": "stdout",
          "text": "Deposit Accepted\n",
          "output_type": "stream"
        }
      ],
      "execution_count": 24
    },
    {
      "cell_type": "code",
      "source": "acct1.withdraw(75)",
      "metadata": {
        "trusted": true
      },
      "outputs": [
        {
          "name": "stdout",
          "text": "Withdrawal Accepted\n",
          "output_type": "stream"
        }
      ],
      "execution_count": 25
    },
    {
      "cell_type": "code",
      "source": "# 6. Make a withdrawal that exceeds the available balance\nacct1.withdraw(500)",
      "metadata": {
        "trusted": true
      },
      "outputs": [
        {
          "name": "stdout",
          "text": "Funds Unavailable!\n",
          "output_type": "stream"
        }
      ],
      "execution_count": 26
    },
    {
      "cell_type": "markdown",
      "source": "## Good job!",
      "metadata": {}
    }
  ]
}