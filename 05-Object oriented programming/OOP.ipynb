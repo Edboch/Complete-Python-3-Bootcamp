{
  "metadata": {
    "kernelspec": {
      "name": "python",
      "display_name": "Python (Pyodide)",
      "language": "python"
    },
    "language_info": {
      "codemirror_mode": {
        "name": "python",
        "version": 3
      },
      "file_extension": ".py",
      "mimetype": "text/x-python",
      "name": "python",
      "nbconvert_exporter": "python",
      "pygments_lexer": "ipython3",
      "version": "3.8"
    }
  },
  "nbformat_minor": 4,
  "nbformat": 4,
  "cells": [
    {
      "cell_type": "code",
      "source": "class Dog:\n    # Class object attribute\n    species = 'Mammal'\n\n    # Constructor\n    def __init__(self,breed,name,spots):\n        # Attributes\n        self.breed = breed\n        self.name = name\n        self.spots = spots # bool\n\n    def bark(self, number):\n        print('Woof! my name is {} and the number is {}'.format(self.name,number))\n\n",
      "metadata": {
        "trusted": true
      },
      "outputs": [],
      "execution_count": 49
    },
    {
      "cell_type": "code",
      "source": "my_dog = Dog('Huskie','Jo',False)",
      "metadata": {
        "trusted": true
      },
      "outputs": [],
      "execution_count": 50
    },
    {
      "cell_type": "code",
      "source": "my_dog.species",
      "metadata": {
        "trusted": true
      },
      "outputs": [
        {
          "execution_count": 51,
          "output_type": "execute_result",
          "data": {
            "text/plain": "'Mammal'"
          },
          "metadata": {}
        }
      ],
      "execution_count": 51
    },
    {
      "cell_type": "code",
      "source": "my_dog.spots",
      "metadata": {
        "trusted": true
      },
      "outputs": [
        {
          "execution_count": 52,
          "output_type": "execute_result",
          "data": {
            "text/plain": "False"
          },
          "metadata": {}
        }
      ],
      "execution_count": 52
    },
    {
      "cell_type": "code",
      "source": "my_dog.bark(10)",
      "metadata": {
        "trusted": true
      },
      "outputs": [
        {
          "name": "stdout",
          "text": "Woof! my name is Jo and the number is 10\n",
          "output_type": "stream"
        }
      ],
      "execution_count": 53
    },
    {
      "cell_type": "code",
      "source": "class Circle():\n    pi = 3.14\n    def __init__(self,radius=1):\n        self.radius = radius\n        self.area = radius*radius*Circle.pi\n\n    def get_circumference(self):\n        return Circle.pi*self.radius*2\n    ",
      "metadata": {
        "trusted": true
      },
      "outputs": [],
      "execution_count": 75
    },
    {
      "cell_type": "code",
      "source": "mycircle = Circle(30)",
      "metadata": {
        "trusted": true
      },
      "outputs": [],
      "execution_count": 76
    },
    {
      "cell_type": "code",
      "source": "mycircle.get_circumference()",
      "metadata": {
        "trusted": true
      },
      "outputs": [
        {
          "execution_count": 77,
          "output_type": "execute_result",
          "data": {
            "text/plain": "188.4"
          },
          "metadata": {}
        }
      ],
      "execution_count": 77
    },
    {
      "cell_type": "code",
      "source": "mycircle.area",
      "metadata": {
        "trusted": true
      },
      "outputs": [
        {
          "execution_count": 79,
          "output_type": "execute_result",
          "data": {
            "text/plain": "2826.0"
          },
          "metadata": {}
        }
      ],
      "execution_count": 79
    },
    {
      "cell_type": "code",
      "source": "class Animal():\n    def __init__(self):\n        print(\"Animal created\")\n\n    def who_am_i(self):\n        print(\"I am an animal\")\n\n    def eat(self):\n        print(\"I am eating\")",
      "metadata": {
        "trusted": true
      },
      "outputs": [],
      "execution_count": 81
    },
    {
      "cell_type": "code",
      "source": "class Dog(Animal):\n    def __init__(self):\n        Animal.__init__(self)\n        print(\"Dog Created\")\n\n    def who_am_i(self):\n        print(\"I am a dog\")",
      "metadata": {
        "trusted": true
      },
      "outputs": [],
      "execution_count": 88
    },
    {
      "cell_type": "code",
      "source": "my_dog = Dog()",
      "metadata": {
        "trusted": true
      },
      "outputs": [
        {
          "name": "stdout",
          "text": "Animal created\nDog Created\n",
          "output_type": "stream"
        }
      ],
      "execution_count": 89
    },
    {
      "cell_type": "code",
      "source": "my_dog.who_am_i()",
      "metadata": {
        "trusted": true
      },
      "outputs": [
        {
          "name": "stdout",
          "text": "I am a dog\n",
          "output_type": "stream"
        }
      ],
      "execution_count": 90
    },
    {
      "cell_type": "code",
      "source": "#Polymorphism - code is encapsulated and two methods do not overwrite eachother when they are separated by a class",
      "metadata": {
        "trusted": true
      },
      "outputs": [],
      "execution_count": 96
    },
    {
      "cell_type": "code",
      "source": "class Dog():\n    def __init__(self,name):\n        self.name = name\n    def speak(self):\n        return self.name + \" says woof\"",
      "metadata": {
        "trusted": true
      },
      "outputs": [],
      "execution_count": 98
    },
    {
      "cell_type": "code",
      "source": "class Cat():\n    def __init__(self,name):\n        self.name = name\n\n    def speak(self):\n        return self.name + ' says meow'\n",
      "metadata": {
        "trusted": true
      },
      "outputs": [],
      "execution_count": 95
    },
    {
      "cell_type": "code",
      "source": "dog = Dog('Jo')\ncat = Cat(\"Mee\")",
      "metadata": {
        "trusted": true
      },
      "outputs": [],
      "execution_count": 101
    },
    {
      "cell_type": "code",
      "source": "dog.speak()",
      "metadata": {
        "trusted": true
      },
      "outputs": [
        {
          "execution_count": 103,
          "output_type": "execute_result",
          "data": {
            "text/plain": "'Jo says woof'"
          },
          "metadata": {}
        }
      ],
      "execution_count": 103
    },
    {
      "cell_type": "code",
      "source": "cat.speak()\n",
      "metadata": {
        "trusted": true
      },
      "outputs": [
        {
          "execution_count": 110,
          "output_type": "execute_result",
          "data": {
            "text/plain": "'Mee says meow'"
          },
          "metadata": {}
        }
      ],
      "execution_count": 110
    },
    {
      "cell_type": "code",
      "source": "# Base class",
      "metadata": {
        "trusted": true
      },
      "outputs": [],
      "execution_count": null
    },
    {
      "cell_type": "code",
      "source": "class Animal():\n    def __init__(self,name):\n        self.name = name\n    def speak(self):\n        raise NotImplementedError(\"Subclass must implement this abstract method\")\n    ",
      "metadata": {
        "trusted": true
      },
      "outputs": [],
      "execution_count": 107
    },
    {
      "cell_type": "code",
      "source": "myanimal = Animal('Abe')",
      "metadata": {
        "trusted": true
      },
      "outputs": [],
      "execution_count": 109
    },
    {
      "cell_type": "code",
      "source": "class Dog(Animal):\n    def speak(self):\n        print('Woof my name is',self.name)",
      "metadata": {
        "trusted": true
      },
      "outputs": [],
      "execution_count": 112
    },
    {
      "cell_type": "code",
      "source": "dog = Dog('Jona')",
      "metadata": {
        "trusted": true
      },
      "outputs": [],
      "execution_count": 114
    },
    {
      "cell_type": "code",
      "source": "dog.speak()",
      "metadata": {
        "trusted": true
      },
      "outputs": [
        {
          "name": "stdout",
          "text": "Woof my name is Jona\n",
          "output_type": "stream"
        }
      ],
      "execution_count": 117
    },
    {
      "cell_type": "code",
      "source": "# how to use built in methods with self defined classes",
      "metadata": {
        "trusted": true
      },
      "outputs": [],
      "execution_count": 119
    },
    {
      "cell_type": "code",
      "source": "class Book():\n    def __init__(self,title,author,pages):\n        self.title = title\n        self.author = author\n        self.pages = pages\n    def __str__(self):\n        return f'{self.title} by {self.author}'\n\n    def __len__(self):\n        return self.pages\n\n    def __delete__(self):\n        print('book has been deleted\n        ",
      "metadata": {
        "trusted": true
      },
      "outputs": [],
      "execution_count": 128
    },
    {
      "cell_type": "code",
      "source": "book = Book('Pyuthon','Ed',100)",
      "metadata": {
        "trusted": true
      },
      "outputs": [],
      "execution_count": 129
    },
    {
      "cell_type": "code",
      "source": "str(book)",
      "metadata": {
        "trusted": true
      },
      "outputs": [
        {
          "execution_count": 130,
          "output_type": "execute_result",
          "data": {
            "text/plain": "'Pyuthon by Ed'"
          },
          "metadata": {}
        }
      ],
      "execution_count": 130
    },
    {
      "cell_type": "code",
      "source": "len(book)",
      "metadata": {
        "trusted": true
      },
      "outputs": [
        {
          "execution_count": 131,
          "output_type": "execute_result",
          "data": {
            "text/plain": "100"
          },
          "metadata": {}
        }
      ],
      "execution_count": 131
    },
    {
      "cell_type": "code",
      "source": "",
      "metadata": {
        "trusted": true
      },
      "outputs": [],
      "execution_count": null
    }
  ]
}